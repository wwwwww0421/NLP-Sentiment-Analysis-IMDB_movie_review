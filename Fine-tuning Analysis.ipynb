{
 "cells": [
  {
   "cell_type": "markdown",
   "metadata": {
    "id": "b93042b8"
   },
   "source": [
    "### Coursework 2\n",
    "\n",
    "In this coursework you will be aiming to complete two classification tasks. \n",
    "Both the classification tasks relate to text classification tasks. \n",
    "\n",
    "One task is to be solved using Support Vector Machines. The other has to be solved using Boosting.\n",
    "\n",
    "The specific tasks and the marking for the various tasks are provided in the notebook. Each task is expected to be accompanied by a lab-report. Each task can have a concise lab report that is maximum of one page in an A4 size. You will be expected to submit your Jupyter Notebook and all lab reports as a single zip file. You could have additional functions implemented that you require for carrying out each task.\n"
   ]
  },
  {
   "cell_type": "markdown",
   "metadata": {
    "id": "ec6c8097"
   },
   "source": [
    "#### Task 1\n",
    "\n",
    "In this task, you need to obtain sentiment analysis for the provided dataset. The dataset consists of movie reviews with the sentiments being provided. The sentiments are either positive or negative. You need to train an SVM based classifier to obtain train and check on the sample test dataset provided. The method will be evaluated also against an external test set. Please do not hardcode any dimensions or number of samples while writing the code. It should be possible to automate the testing and hardcoding values does not allow for automated testing. \n",
    "\n",
    "You are allowed to use scikit-learn to implement the SVM. However, you are expected to write your own kernels.\n",
    "\n",
    "You are allowed to use the existing library functions such as scikit-learn or numpy for obtaining the SVM. The main idea is to analyse the dataset using different kind of kernels. You are also supposed to write your own custom text kernels. Refer to the documentation provided [here](https://scikit-learn.org/stable/modules/svm.html) at 1.4.6.2 and an example [here](https://scikit-learn.org/stable/auto_examples/svm/plot_custom_kernel.html) for writing your own kernels.\n",
    "\n",
    "Details regarding the marking have been provided in the coursework specification file. Ensure that the code can be run with different test files. "
   ]
  },
  {
   "cell_type": "code",
   "execution_count": 19,
   "metadata": {
    "id": "6ecdeb0f"
   },
   "outputs": [],
   "source": [
    "import pandas as pd\n",
    "import numpy as np\n",
    "import csv\n",
    "import nltk\n",
    "import string\n",
    "import re\n",
    "from sklearn.feature_extraction.text import CountVectorizer\n",
    "from sklearn.feature_extraction.text import TfidfVectorizer\n",
    "from sklearn import svm\n",
    "from sklearn.metrics import accuracy_score\n",
    "from sklearn.pipeline import Pipeline\n",
    "from sklearn.svm import SVC\n",
    "from sklearn.metrics import confusion_matrix, classification_report\n",
    "\n",
    "## For stopwords that we need to exclude\n",
    "from nltk.corpus import stopwords\n",
    "\n",
    "## For ngrams example in task2\n",
    "from nltk import ngrams\n",
    "\n",
    "## For Stemming\n",
    "from nltk.stem import PorterStemmer\n",
    "from nltk.tokenize import word_tokenize\n",
    "\n",
    "import seaborn as sns\n",
    "import matplotlib.pyplot as plt\n",
    "import time"
   ]
  },
  {
   "cell_type": "code",
   "execution_count": 20,
   "metadata": {},
   "outputs": [],
   "source": [
    "# new_stop = stopwords.words('english')\n",
    "all_stopwords = stopwords.words('english')\n",
    "# # print(all_stopwords)\n",
    "# # for word in all_stopwords:\n",
    "# #     all_stopwords.remove('not')\n",
    "    \n",
    "# # a = all_stopwords.remove(\"not\")\n",
    "new_stop = []\n",
    "for i in all_stopwords:\n",
    "    if i == 'not' or i == \"don't\" or i == \"don'\":\n",
    "        pass\n",
    "    else:\n",
    "        new_stop.append(i)"
   ]
  },
  {
   "cell_type": "code",
   "execution_count": 21,
   "metadata": {},
   "outputs": [],
   "source": [
    "def word_weight(y_pred_test):\n",
    "    false_pos = []\n",
    "    false_neg = []\n",
    "    for i in range(len(y_pred_test)):\n",
    "        if y_pred_test[i] == 1 and Y_test[i] == -1:\n",
    "            false_pos.append(i)\n",
    "        elif y_pred_test[i] == -1 and Y_test[i] == 1:\n",
    "            false_neg.append(i)\n",
    "\n",
    "    false_pos_lst = []\n",
    "    false_neg_lst = []\n",
    "    for x in false_pos:\n",
    "        false_pos_lst.append(X_test[x])\n",
    "    for x in false_neg:\n",
    "        false_neg_lst.append(X_test[x])\n",
    "\n",
    "    false_pos_weight = np.sum(false_pos_lst, axis =0).tolist()\n",
    "    false_neg_weight = np.sum(false_neg_lst, axis =0).tolist()\n",
    "    \n",
    "    return false_pos_weight, false_neg_weight\n",
    "\n",
    "def Nmaxelements(list1, N):\n",
    "    final_list = []\n",
    "    list2 = list(enumerate(list1))\n",
    "    for i in range(0, N): \n",
    "        max1 = 0\n",
    "        max_position = 0\n",
    "          \n",
    "        for j in range(len(list2)):\n",
    "            if list2[j][1] > max1:\n",
    "                max1 = list2[j][1]\n",
    "                max_position = list2[j][0]\n",
    "                  \n",
    "        \n",
    "        final_list.append((max_position,max1))\n",
    "        list2.remove((max_position,max1))\n",
    "        \n",
    "          \n",
    "    return final_list"
   ]
  },
  {
   "cell_type": "code",
   "execution_count": 22,
   "metadata": {
    "id": "4a9dd5a3"
   },
   "outputs": [],
   "source": [
    "def clean(dataset):\n",
    "    corpus = []\n",
    "    for i in range(len(dataset)):\n",
    "        review = re.sub('[^a-zA-Z]', ' ', dataset['review'][i])\n",
    "        review = review.lower()\n",
    "        review = review.split()\n",
    "        ps = PorterStemmer()\n",
    "        all_stopwords = new_stop\n",
    "        review = [ps.stem(word) for word in review if not word in set(all_stopwords)]\n",
    "        review = [word for word in review if len(word) >= 3]\n",
    "        review = ' '.join(review)\n",
    "        corpus.append(review)\n",
    "    return corpus\n",
    "\n",
    "def numerial(x):\n",
    "    if x == 'positive':\n",
    "        return 1\n",
    "    else:\n",
    "        return 0\n",
    "    \n",
    "cv = TfidfVectorizer()"
   ]
  },
  {
   "cell_type": "markdown",
   "metadata": {
    "id": "cfe3b6b1"
   },
   "source": [
    "# Process the text and obtain a bag of words-based features "
   ]
  },
  {
   "cell_type": "code",
   "execution_count": 23,
   "metadata": {
    "id": "e55e8ea8"
   },
   "outputs": [],
   "source": [
    "def extract_bag_of_words_train_test(train_file, test_file):\n",
    "    import numpy as np\n",
    "    import nltk\n",
    "    # Read the CSV file and extract Bag of Words Features\n",
    "    train = pd.read_csv(train_file)\n",
    "    test_old = pd.read_csv(test_file)\n",
    "    test = test_old.iloc[:,:2]\n",
    "    \n",
    "    train['sentiment'] = train[pd.notnull(train['sentiment'])]['sentiment'].apply(numerial)\n",
    "    test['sentiment'] = test[pd.notnull(test['sentiment'])]['sentiment'].apply(numerial)\n",
    "    \n",
    "    corpus_train = clean(train)\n",
    "    corpus_test = clean(test)\n",
    "    \n",
    "    X_train = cv.fit_transform(corpus_train).toarray()\n",
    "    y_train = train.iloc[:, -1].values\n",
    "    y_train = y_train*2-1\n",
    "    X_test = cv.transform(corpus_test).toarray()\n",
    "    y_test = test.iloc[:, -1].values\n",
    "    y_test = y_test*2-1\n",
    "    \n",
    "    \n",
    "    return (X_train,y_train,X_test,y_test)\n",
    "\n",
    "(X_train,Y_train,X_test,Y_test) = extract_bag_of_words_train_test('movie_review_train.csv', 'movie_review_test.csv')"
   ]
  },
  {
   "cell_type": "markdown",
   "metadata": {},
   "source": [
    "# Cross Validation"
   ]
  },
  {
   "cell_type": "code",
   "execution_count": 24,
   "metadata": {
    "id": "568da67d"
   },
   "outputs": [],
   "source": [
    "words=cv.get_feature_names()\n",
    "from sklearn.model_selection import train_test_split\n",
    "X_train, X_val, Y_train, Y_val = train_test_split(X_train, Y_train, test_size = 0.20, random_state = 32)"
   ]
  },
  {
   "cell_type": "markdown",
   "metadata": {},
   "source": [
    "# 1. Sigmoid Kernel"
   ]
  },
  {
   "cell_type": "markdown",
   "metadata": {},
   "source": [
    "## 1.1 Sigmoid Fine-Tuning"
   ]
  },
  {
   "cell_type": "code",
   "execution_count": 7,
   "metadata": {
    "id": "bf1a2aef",
    "outputId": "2f53fe24-7a67-4873-f157-80e476f28628"
   },
   "outputs": [
    {
     "name": "stdout",
     "output_type": "stream",
     "text": [
      "Fitting 5 folds for each of 8 candidates, totalling 40 fits\n",
      "[CV] END ..........C=0.1, coef0=0.8, gamma=1, kernel=sigmoid; total time= 1.4min\n",
      "[CV] END ..........C=0.1, coef0=0.8, gamma=1, kernel=sigmoid; total time= 1.4min\n",
      "[CV] END ..........C=0.1, coef0=0.8, gamma=1, kernel=sigmoid; total time= 1.4min\n",
      "[CV] END ..........C=0.1, coef0=0.8, gamma=1, kernel=sigmoid; total time= 1.4min\n",
      "[CV] END ..........C=0.1, coef0=0.8, gamma=1, kernel=sigmoid; total time= 1.5min\n",
      "[CV] END ........C=0.1, coef0=0.8, gamma=0.1, kernel=sigmoid; total time= 1.4min\n",
      "[CV] END ........C=0.1, coef0=0.8, gamma=0.1, kernel=sigmoid; total time= 1.4min\n",
      "[CV] END ........C=0.1, coef0=0.8, gamma=0.1, kernel=sigmoid; total time= 1.4min\n",
      "[CV] END ........C=0.1, coef0=0.8, gamma=0.1, kernel=sigmoid; total time= 1.4min\n",
      "[CV] END ........C=0.1, coef0=0.8, gamma=0.1, kernel=sigmoid; total time= 1.4min\n",
      "[CV] END ..........C=0.1, coef0=0.5, gamma=1, kernel=sigmoid; total time= 1.4min\n",
      "[CV] END ..........C=0.1, coef0=0.5, gamma=1, kernel=sigmoid; total time= 1.4min\n",
      "[CV] END ..........C=0.1, coef0=0.5, gamma=1, kernel=sigmoid; total time= 1.4min\n",
      "[CV] END ..........C=0.1, coef0=0.5, gamma=1, kernel=sigmoid; total time= 1.4min\n",
      "[CV] END ..........C=0.1, coef0=0.5, gamma=1, kernel=sigmoid; total time= 1.4min\n",
      "[CV] END ........C=0.1, coef0=0.5, gamma=0.1, kernel=sigmoid; total time= 1.4min\n",
      "[CV] END ........C=0.1, coef0=0.5, gamma=0.1, kernel=sigmoid; total time= 1.5min\n",
      "[CV] END ........C=0.1, coef0=0.5, gamma=0.1, kernel=sigmoid; total time= 1.4min\n",
      "[CV] END ........C=0.1, coef0=0.5, gamma=0.1, kernel=sigmoid; total time= 1.4min\n",
      "[CV] END ........C=0.1, coef0=0.5, gamma=0.1, kernel=sigmoid; total time= 1.4min\n",
      "[CV] END ............C=1, coef0=0.8, gamma=1, kernel=sigmoid; total time= 1.0min\n",
      "[CV] END ............C=1, coef0=0.8, gamma=1, kernel=sigmoid; total time= 1.0min\n",
      "[CV] END ............C=1, coef0=0.8, gamma=1, kernel=sigmoid; total time= 1.0min\n",
      "[CV] END ............C=1, coef0=0.8, gamma=1, kernel=sigmoid; total time= 1.0min\n",
      "[CV] END ............C=1, coef0=0.8, gamma=1, kernel=sigmoid; total time= 1.0min\n",
      "[CV] END ..........C=1, coef0=0.8, gamma=0.1, kernel=sigmoid; total time= 1.4min\n",
      "[CV] END ..........C=1, coef0=0.8, gamma=0.1, kernel=sigmoid; total time= 1.4min\n",
      "[CV] END ..........C=1, coef0=0.8, gamma=0.1, kernel=sigmoid; total time= 1.4min\n",
      "[CV] END ..........C=1, coef0=0.8, gamma=0.1, kernel=sigmoid; total time= 1.4min\n",
      "[CV] END ..........C=1, coef0=0.8, gamma=0.1, kernel=sigmoid; total time= 1.4min\n",
      "[CV] END ............C=1, coef0=0.5, gamma=1, kernel=sigmoid; total time=  57.2s\n",
      "[CV] END ............C=1, coef0=0.5, gamma=1, kernel=sigmoid; total time=  56.8s\n",
      "[CV] END ............C=1, coef0=0.5, gamma=1, kernel=sigmoid; total time=  57.6s\n",
      "[CV] END ............C=1, coef0=0.5, gamma=1, kernel=sigmoid; total time=  57.3s\n",
      "[CV] END ............C=1, coef0=0.5, gamma=1, kernel=sigmoid; total time= 1.0min\n",
      "[CV] END ..........C=1, coef0=0.5, gamma=0.1, kernel=sigmoid; total time= 1.4min\n",
      "[CV] END ..........C=1, coef0=0.5, gamma=0.1, kernel=sigmoid; total time= 1.4min\n",
      "[CV] END ..........C=1, coef0=0.5, gamma=0.1, kernel=sigmoid; total time= 1.4min\n",
      "[CV] END ..........C=1, coef0=0.5, gamma=0.1, kernel=sigmoid; total time= 1.4min\n",
      "[CV] END ..........C=1, coef0=0.5, gamma=0.1, kernel=sigmoid; total time= 1.4min\n"
     ]
    },
    {
     "data": {
      "text/plain": [
       "GridSearchCV(estimator=SVC(),\n",
       "             param_grid={'C': [0.1, 1], 'coef0': [0.8, 0.5], 'gamma': [1, 0.1],\n",
       "                         'kernel': ['sigmoid']},\n",
       "             verbose=2)"
      ]
     },
     "execution_count": 7,
     "metadata": {},
     "output_type": "execute_result"
    }
   ],
   "source": [
    "from sklearn.model_selection import GridSearchCV\n",
    "param_grid = {'C': [0.1,1], 'gamma': [1,0.1],'coef0':[0.8,0.5],'kernel': ['sigmoid']}\n",
    "grid = GridSearchCV(SVC(),param_grid,refit=True,verbose=2)\n",
    "grid.fit(X_train,Y_train)"
   ]
  },
  {
   "cell_type": "code",
   "execution_count": 8,
   "metadata": {
    "id": "583924e1",
    "outputId": "da88c278-62c7-4b5a-f372-da82de2d2773"
   },
   "outputs": [
    {
     "name": "stdout",
     "output_type": "stream",
     "text": [
      "SVC(C=1, coef0=0.8, gamma=1, kernel='sigmoid')\n"
     ]
    }
   ],
   "source": [
    "print(grid.best_estimator_)"
   ]
  },
  {
   "cell_type": "code",
   "execution_count": 9,
   "metadata": {
    "id": "ee7460d2",
    "outputId": "4955a088-4988-4922-f716-f411bc229355",
    "scrolled": true
   },
   "outputs": [
    {
     "name": "stdout",
     "output_type": "stream",
     "text": [
      "training set prediction acc:  0.91575\n",
      "validation set prediction acc:  0.85\n",
      "test set prediction acc: 0.872\n"
     ]
    }
   ],
   "source": [
    "from sklearn.svm import SVC\n",
    "svm_sig = SVC(kernel='sigmoid', random_state=32, coef0=0.8, C=1, gamma=1)\n",
    "svm_sig.fit(X_train, Y_train)\n",
    "y_pred = svm_sig.predict(X_val)\n",
    "\n",
    "y_pred_t = svm_sig.predict(X_train)\n",
    "print('training set prediction acc: ',accuracy_score(Y_train, y_pred_t))\n",
    "\n",
    "y_pred = svm_sig.predict(X_val)\n",
    "print('validation set prediction acc: ',accuracy_score(Y_val, y_pred))\n",
    "\n",
    "## Test set\n",
    "y_pred_test_sigmoid = svm_sig.predict(X_test)\n",
    "print('test set prediction acc:',accuracy_score(Y_test, y_pred_test_sigmoid))"
   ]
  },
  {
   "cell_type": "markdown",
   "metadata": {},
   "source": [
    "## 1.2 Analysis of Sigmoid kernel"
   ]
  },
  {
   "cell_type": "code",
   "execution_count": 10,
   "metadata": {},
   "outputs": [
    {
     "name": "stdout",
     "output_type": "stream",
     "text": [
      "Top 5 False Positive words in Sigmoid\n",
      " \n",
      "movi : 4.418690902399458\n",
      "film : 4.068672395696831\n",
      "not : 2.6219436937781033\n",
      "one : 2.5041794976387868\n",
      "play : 2.350266932218392\n",
      " \n",
      " \n",
      "Top 5 False Negative words in Sigmoid\n",
      " \n",
      "movi : 5.873066352603637\n",
      "like : 3.0673563308180087\n",
      "film : 3.020491159038832\n",
      "not : 2.9335391335859673\n",
      "good : 2.8499174320691125\n"
     ]
    }
   ],
   "source": [
    "sigmoid_fp, sigmoid_fn = word_weight(y_pred_test_sigmoid)\n",
    "final_false_pos_lst_sigmoid = Nmaxelements(sigmoid_fp, 5)\n",
    "final_false_neg_lst_sigmoid = Nmaxelements(sigmoid_fn, 5)\n",
    "print('Top 5 False Positive words in Sigmoid')\n",
    "print(' ')\n",
    "for i in final_false_pos_lst_sigmoid:\n",
    "    print(words[i[0]], ':', i[1])\n",
    "\n",
    "print(' ')\n",
    "print(' ')\n",
    "print('Top 5 False Negative words in Sigmoid')\n",
    "print(' ')\n",
    "for i in final_false_neg_lst_sigmoid:\n",
    "    print(words[i[0]], ':', i[1])"
   ]
  },
  {
   "cell_type": "markdown",
   "metadata": {},
   "source": [
    "## 1.3 Confusion Matrix of Sigmoid Kernel"
   ]
  },
  {
   "cell_type": "code",
   "execution_count": 12,
   "metadata": {
    "id": "bddefe83",
    "outputId": "756535be-7af7-4406-ad7e-f7630aa20f94"
   },
   "outputs": [
    {
     "name": "stdout",
     "output_type": "stream",
     "text": [
      "              precision    recall  f1-score   support\n",
      "\n",
      "          -1       0.87      0.87      0.87       731\n",
      "           1       0.88      0.87      0.87       769\n",
      "\n",
      "    accuracy                           0.87      1500\n",
      "   macro avg       0.87      0.87      0.87      1500\n",
      "weighted avg       0.87      0.87      0.87      1500\n",
      "\n"
     ]
    }
   ],
   "source": [
    "#Generate the confusion matrix\n",
    "svmsig_matrix = confusion_matrix(Y_test, y_pred_test_sigmoid)\n",
    "\n",
    "\n",
    "print(classification_report(Y_test, y_pred_test_sigmoid))"
   ]
  },
  {
   "cell_type": "code",
   "execution_count": 13,
   "metadata": {},
   "outputs": [
    {
     "data": {
      "image/png": "[encoded data removed]",
      "text/plain": [
       "<Figure size 864x576 with 2 Axes>"
      ]
     },
     "metadata": {
      "needs_background": "light"
     },
     "output_type": "display_data"
    }
   ],
   "source": [
    "plt.figure(figsize=(12,8))\n",
    "\n",
    "group_names = ['True Neg', 'False Pos', 'False Neg', 'True Pos']\n",
    "group_counts = ['{0:0.0f}'.format(value) for value in svmsig_matrix.flatten()]\n",
    "group_percentages = ['{0:.2%}'.format(value) for value in svmsig_matrix.flatten()/np.sum(svmsig_matrix)]\n",
    "labels = [f'{v1}\\n{v2}\\n{v3}' for v1, v2, v3 in zip(group_names,group_counts,group_percentages)]\n",
    "labels = np.asarray(labels).reshape(2,2)\n",
    "\n",
    "ax = sns.heatmap(svmsig_matrix, annot=labels, fmt='', cmap='Blues', annot_kws={\"size\": 20})\n",
    "ax.set_ylabel('Predict', fontsize=20)    \n",
    "ax.set_xlabel('Actual',fontsize=20)\n",
    "ax.set_title(\"Confusion Matrix -- Sigmoid kernel\", fontsize=20)\n",
    "plt.show()"
   ]
  },
  {
   "cell_type": "markdown",
   "metadata": {},
   "source": [
    "# 2. RBF Kernel"
   ]
  },
  {
   "cell_type": "markdown",
   "metadata": {},
   "source": [
    "## 2.1 RBF Kernel Fine-Tuning"
   ]
  },
  {
   "cell_type": "code",
   "execution_count": 14,
   "metadata": {},
   "outputs": [
    {
     "name": "stdout",
     "output_type": "stream",
     "text": [
      "Fitting 5 folds for each of 4 candidates, totalling 20 fits\n",
      "[CV] END ...........................C=1, gamma=1, kernel=rbf; total time= 2.0min\n",
      "[CV] END ...........................C=1, gamma=1, kernel=rbf; total time= 2.0min\n",
      "[CV] END ...........................C=1, gamma=1, kernel=rbf; total time= 2.0min\n",
      "[CV] END ...........................C=1, gamma=1, kernel=rbf; total time= 2.0min\n",
      "[CV] END ...........................C=1, gamma=1, kernel=rbf; total time= 2.0min\n",
      "[CV] END .........................C=1, gamma=0.1, kernel=rbf; total time= 1.9min\n",
      "[CV] END .........................C=1, gamma=0.1, kernel=rbf; total time= 1.9min\n",
      "[CV] END .........................C=1, gamma=0.1, kernel=rbf; total time= 1.9min\n",
      "[CV] END .........................C=1, gamma=0.1, kernel=rbf; total time= 1.9min\n",
      "[CV] END .........................C=1, gamma=0.1, kernel=rbf; total time= 1.9min\n",
      "[CV] END ..........................C=10, gamma=1, kernel=rbf; total time= 2.0min\n",
      "[CV] END ..........................C=10, gamma=1, kernel=rbf; total time= 2.0min\n",
      "[CV] END ..........................C=10, gamma=1, kernel=rbf; total time= 2.0min\n",
      "[CV] END ..........................C=10, gamma=1, kernel=rbf; total time= 2.0min\n",
      "[CV] END ..........................C=10, gamma=1, kernel=rbf; total time= 2.0min\n",
      "[CV] END ........................C=10, gamma=0.1, kernel=rbf; total time= 1.6min\n",
      "[CV] END ........................C=10, gamma=0.1, kernel=rbf; total time= 1.7min\n",
      "[CV] END ........................C=10, gamma=0.1, kernel=rbf; total time= 1.7min\n",
      "[CV] END ........................C=10, gamma=0.1, kernel=rbf; total time= 1.7min\n",
      "[CV] END ........................C=10, gamma=0.1, kernel=rbf; total time= 1.7min\n"
     ]
    },
    {
     "data": {
      "text/plain": [
       "GridSearchCV(estimator=SVC(),\n",
       "             param_grid={'C': [1, 10], 'gamma': [1, 0.1], 'kernel': ['rbf']},\n",
       "             verbose=2)"
      ]
     },
     "execution_count": 14,
     "metadata": {},
     "output_type": "execute_result"
    }
   ],
   "source": [
    "from sklearn.model_selection import GridSearchCV\n",
    "param_grid = {'C': [1, 10], 'gamma': [1,0.1],'kernel': ['rbf']}\n",
    "grid = GridSearchCV(SVC(),param_grid,refit=True,verbose=2)\n",
    "grid.fit(X_train,Y_train)"
   ]
  },
  {
   "cell_type": "code",
   "execution_count": 15,
   "metadata": {},
   "outputs": [
    {
     "name": "stdout",
     "output_type": "stream",
     "text": [
      "SVC(C=10, gamma=1)\n"
     ]
    }
   ],
   "source": [
    "print(grid.best_estimator_)"
   ]
  },
  {
   "cell_type": "code",
   "execution_count": 16,
   "metadata": {
    "id": "2271b3dd",
    "outputId": "96c56c63-067a-44bf-91d7-49a8b28b5228"
   },
   "outputs": [
    {
     "name": "stdout",
     "output_type": "stream",
     "text": [
      "training set prediction acc:  1.0\n",
      "validation set prediction acc:  0.849\n",
      "test set prediction acc: 0.87\n"
     ]
    }
   ],
   "source": [
    "## Validation set\n",
    "svm_rbf = SVC(kernel='rbf', random_state=32, gamma=1, C=10)\n",
    "svm_rbf.fit(X_train, Y_train)\n",
    "\n",
    "y_pred_t = svm_rbf.predict(X_train)\n",
    "print('training set prediction acc: ',accuracy_score(Y_train, y_pred_t))\n",
    "\n",
    "y_pred = svm_rbf.predict(X_val)\n",
    "print('validation set prediction acc: ',accuracy_score(Y_val, y_pred))\n",
    "\n",
    "## Test set\n",
    "y_pred_test_rbf = svm_rbf.predict(X_test)\n",
    "print('test set prediction acc:',accuracy_score(Y_test, y_pred_test_rbf))"
   ]
  },
  {
   "cell_type": "markdown",
   "metadata": {},
   "source": [
    "## 2.2 Analysis of RBF kernel"
   ]
  },
  {
   "cell_type": "code",
   "execution_count": 17,
   "metadata": {},
   "outputs": [
    {
     "name": "stdout",
     "output_type": "stream",
     "text": [
      "Top 5 False Positive words in RBF\n",
      " \n",
      "movi : 5.035807543892971\n",
      "film : 3.8109505804591413\n",
      "not : 2.8935416967940735\n",
      "one : 2.6782505912373376\n",
      "play : 2.4881927081344455\n",
      " \n",
      " \n",
      "Top 5 False Negative words in RBF\n",
      " \n",
      "movi : 6.0914278539575\n",
      "film : 3.192637958838685\n",
      "like : 3.0238497207686534\n",
      "not : 2.888048048667169\n",
      "good : 2.681900178629767\n"
     ]
    }
   ],
   "source": [
    "rbf_fp, rbf_fn = word_weight(y_pred_test_rbf)\n",
    "final_false_pos_lst_rbf = Nmaxelements(rbf_fp, 5)\n",
    "final_false_neg_lst_rbf = Nmaxelements(rbf_fn, 5)\n",
    "print('Top 5 False Positive words in RBF')\n",
    "print(' ')\n",
    "for i in final_false_pos_lst_rbf:\n",
    "    print(words[i[0]], ':', i[1])\n",
    "\n",
    "print(' ')\n",
    "print(' ')\n",
    "print('Top 5 False Negative words in RBF')\n",
    "print(' ')\n",
    "for i in final_false_neg_lst_rbf:\n",
    "    print(words[i[0]], ':', i[1])"
   ]
  },
  {
   "cell_type": "code",
   "execution_count": 18,
   "metadata": {
    "id": "df1bc53a",
    "outputId": "b31ac4c3-a179-40e9-f665-c73adf48cbfb"
   },
   "outputs": [
    {
     "name": "stdout",
     "output_type": "stream",
     "text": [
      "[[638  93]\n",
      " [102 667]]\n",
      "              precision    recall  f1-score   support\n",
      "\n",
      "          -1       0.86      0.87      0.87       731\n",
      "           1       0.88      0.87      0.87       769\n",
      "\n",
      "    accuracy                           0.87      1500\n",
      "   macro avg       0.87      0.87      0.87      1500\n",
      "weighted avg       0.87      0.87      0.87      1500\n",
      "\n"
     ]
    }
   ],
   "source": [
    "svmrbf_matrix = confusion_matrix(Y_test, y_pred_test_rbf)\n",
    "\n",
    "print(svmrbf_matrix)\n",
    "print(classification_report(Y_test, y_pred_test_rbf))"
   ]
  },
  {
   "cell_type": "markdown",
   "metadata": {},
   "source": [
    "## 2.3 Confusion Maxtrix of RBF Kernel"
   ]
  },
  {
   "cell_type": "code",
   "execution_count": 19,
   "metadata": {},
   "outputs": [
    {
     "data": {
      "image/png": "[encoded data removed]",
      "text/plain": [
       "<Figure size 864x576 with 2 Axes>"
      ]
     },
     "metadata": {
      "needs_background": "light"
     },
     "output_type": "display_data"
    }
   ],
   "source": [
    "plt.figure(figsize=(12,8))\n",
    "\n",
    "group_names = ['True Neg', 'False Pos', 'False Neg', 'True Pos']\n",
    "group_counts = ['{0:0.0f}'.format(value) for value in svmrbf_matrix.flatten()]\n",
    "group_percentages = ['{0:.2%}'.format(value) for value in svmrbf_matrix.flatten()/np.sum(svmrbf_matrix)]\n",
    "labels = [f'{v1}\\n{v2}\\n{v3}' for v1, v2, v3 in zip(group_names,group_counts,group_percentages)]\n",
    "labels = np.asarray(labels).reshape(2,2)\n",
    "\n",
    "ax = sns.heatmap(svmrbf_matrix, annot=labels, fmt='', cmap='Blues', annot_kws={\"size\": 20})\n",
    "ax.set_ylabel('Predict', fontsize=20)    \n",
    "ax.set_xlabel('Actual',fontsize=20)\n",
    "ax.set_title(\"Confusion Matrix -- RBF kernel\", fontsize=20)\n",
    "plt.show()"
   ]
  },
  {
   "cell_type": "markdown",
   "metadata": {},
   "source": [
    "# 3. Customize Kernel (Polynomial Kernel)"
   ]
  },
  {
   "cell_type": "code",
   "execution_count": 20,
   "metadata": {
    "id": "f3d3b9a6"
   },
   "outputs": [],
   "source": [
    "\n",
    "gamma = 1\n",
    "degree = 2\n",
    "        \n",
    "def kernel(X, Y):\n",
    "   \n",
    "    K = np.zeros((X.shape[0],Y.shape[0]))\n",
    "    K = (gamma*X.dot(Y.T))**degree\n",
    "\n",
    "    return K\n",
    "\n",
    "class SVMClassifier:\n",
    "    def __init__(self):\n",
    "        self.clf = SVC(kernel = kernel)\n",
    "        \n",
    "    def fit(self, X, Y):\n",
    "        return self.clf.fit(X,Y)\n",
    "        \n",
    "    def predict(self, X):\n",
    "        return self.clf.predict(X)"
   ]
  },
  {
   "cell_type": "markdown",
   "metadata": {
    "id": "06b261ef"
   },
   "source": [
    "### Test function that will be called to evaluate your code. Separate test dataset will be provided\n",
    "\n",
    "Do not modify the code below. Please write your code above such that it can be evaluated by the function below. You can modify your code above such that you obtain the best performance through this function. "
   ]
  },
  {
   "cell_type": "code",
   "execution_count": 21,
   "metadata": {
    "id": "295055af"
   },
   "outputs": [],
   "source": [
    "def test_func_svm(dataset_train, dataset_test):\n",
    "    from sklearn.metrics import accuracy_score  \n",
    "    (X_train, Y_train, X_test, Y_test) = extract_bag_of_words_train_test(dataset_train, dataset_test)\n",
    "    sc = SVMClassifier()\n",
    "    sc.fit(X_train, Y_train)\n",
    "    Y_Pred = sc.predict(X_test)\n",
    "    acc = accuracy_score(Y_test, Y_Pred)\n",
    "    print(\"Accuracy:\",acc)\n",
    "    return acc"
   ]
  },
  {
   "cell_type": "markdown",
   "metadata": {},
   "source": [
    "## 3.1 Custom Kernel Fine-Tuning"
   ]
  },
  {
   "cell_type": "code",
   "execution_count": 22,
   "metadata": {},
   "outputs": [
    {
     "name": "stdout",
     "output_type": "stream",
     "text": [
      "gamma= 1 degree= 2\n",
      "Accuracy: 0.8753333333333333\n",
      "gamma= 1 degree= 3\n",
      "Accuracy: 0.8333333333333334\n",
      "gamma= 0.1 degree= 2\n",
      "Accuracy: 0.48733333333333334\n",
      "gamma= 0.1 degree= 3\n",
      "Accuracy: 0.48733333333333334\n"
     ]
    }
   ],
   "source": [
    "gamma_lst = [1,0.1]\n",
    "degree_lst = [2, 3]\n",
    "\n",
    "gamma = 0\n",
    "degree = 0\n",
    "\n",
    "for g in gamma_lst:\n",
    "    for d in degree_lst:\n",
    "        gamma = g\n",
    "        degree = d\n",
    "        print('gamma=',gamma,'degree=',degree)\n",
    "        acc = test_func_svm(\"movie_review_train.csv\", \"movie_review_test.csv\")"
   ]
  },
  {
   "cell_type": "code",
   "execution_count": 23,
   "metadata": {},
   "outputs": [],
   "source": [
    "gamma = 1\n",
    "degree = 2"
   ]
  },
  {
   "cell_type": "code",
   "execution_count": 24,
   "metadata": {
    "id": "1eb82f4c",
    "outputId": "c7bf4222-2f2c-4d0f-8da7-2859934b6616"
   },
   "outputs": [
    {
     "name": "stdout",
     "output_type": "stream",
     "text": [
      "Accuracy: 0.8753333333333333\n"
     ]
    }
   ],
   "source": [
    "acc = test_func_svm(\"movie_review_train.csv\", \"movie_review_test.csv\")"
   ]
  },
  {
   "cell_type": "markdown",
   "metadata": {},
   "source": [
    "## 3.2 Analysis of Custom Kernel"
   ]
  },
  {
   "cell_type": "code",
   "execution_count": 25,
   "metadata": {},
   "outputs": [
    {
     "name": "stdout",
     "output_type": "stream",
     "text": [
      "Top 5 False Positive words in Custom\n",
      " \n",
      "movi : 5.337675290343167\n",
      "film : 4.513189175631588\n",
      "not : 3.3104998024901504\n",
      "one : 3.136880196562485\n",
      "show : 2.8213941902649764\n",
      " \n",
      " \n",
      "Top 5 False Negative words in Custom\n",
      " \n",
      "movi : 5.669915632823062\n",
      "like : 2.741856239243833\n",
      "not : 2.7023393085900875\n",
      "film : 2.610928266020233\n",
      "good : 2.4103014189599223\n"
     ]
    }
   ],
   "source": [
    "sc = SVMClassifier()\n",
    "sc.fit(X_train, Y_train)\n",
    "Y_Pred = sc.predict(X_test)\n",
    "\n",
    "custom_fp, custom_fn = word_weight(Y_Pred)\n",
    "final_false_pos_lst_custom = Nmaxelements(custom_fp, 5)\n",
    "final_false_neg_lst_custom = Nmaxelements(custom_fn, 5)\n",
    "print('Top 5 False Positive words in Custom')\n",
    "print(' ')\n",
    "for i in final_false_pos_lst_custom:\n",
    "    print(words[i[0]], ':', i[1])\n",
    "\n",
    "print(' ')\n",
    "print(' ')\n",
    "print('Top 5 False Negative words in Custom')\n",
    "print(' ')\n",
    "for i in final_false_neg_lst_custom:\n",
    "    print(words[i[0]], ':', i[1])"
   ]
  },
  {
   "cell_type": "code",
   "execution_count": 26,
   "metadata": {
    "id": "06c0e6d7",
    "outputId": "b221e627-268d-404e-f919-5816c673c572"
   },
   "outputs": [
    {
     "name": "stdout",
     "output_type": "stream",
     "text": [
      "[[613 118]\n",
      " [ 78 691]]\n",
      "              precision    recall  f1-score   support\n",
      "\n",
      "          -1       0.89      0.84      0.86       731\n",
      "           1       0.85      0.90      0.88       769\n",
      "\n",
      "    accuracy                           0.87      1500\n",
      "   macro avg       0.87      0.87      0.87      1500\n",
      "weighted avg       0.87      0.87      0.87      1500\n",
      "\n"
     ]
    }
   ],
   "source": [
    "## Train set\n",
    "# sc = SVMClassifier()\n",
    "# sc.fit(X_train, Y_train)\n",
    "y_pred_t = sc.predict(X_train)\n",
    "# print('training set prediction acc: ',accuracy_score(Y_train, y_pred_t))\n",
    "\n",
    "## Test set\n",
    "y_pred_test = sc.predict(X_test)\n",
    "# print('test set prediction acc:',accuracy_score(Y_test, y_pred_test))\n",
    "\n",
    "svmself_matrix = confusion_matrix(Y_test, y_pred_test)\n",
    "\n",
    "print(svmself_matrix)\n",
    "print(classification_report(Y_test, y_pred_test))"
   ]
  },
  {
   "cell_type": "markdown",
   "metadata": {},
   "source": [
    "## 3.3 Confusion Matrix of Custom Kernel"
   ]
  },
  {
   "cell_type": "code",
   "execution_count": 27,
   "metadata": {},
   "outputs": [
    {
     "data": {
      "image/png": "[encoded data removed]",
      "text/plain": [
       "<Figure size 864x576 with 2 Axes>"
      ]
     },
     "metadata": {
      "needs_background": "light"
     },
     "output_type": "display_data"
    }
   ],
   "source": [
    "plt.figure(figsize=(12,8))\n",
    "\n",
    "group_names = ['True Neg', 'False Pos', 'False Neg', 'True Pos']\n",
    "group_counts = ['{0:0.0f}'.format(value) for value in svmself_matrix.flatten()]\n",
    "group_percentages = ['{0:.2%}'.format(value) for value in svmself_matrix.flatten()/np.sum(svmself_matrix)]\n",
    "labels = [f'{v1}\\n{v2}\\n{v3}' for v1, v2, v3 in zip(group_names,group_counts,group_percentages)]\n",
    "labels = np.asarray(labels).reshape(2,2)\n",
    "\n",
    "ax = sns.heatmap(svmself_matrix, annot=labels, fmt='', cmap='Blues', annot_kws={\"size\": 20})\n",
    "ax.set_ylabel('Predict', fontsize=20)    \n",
    "ax.set_xlabel('Actual',fontsize=20)\n",
    "ax.set_title(\"Confusion Matrix -- Custom kernel\", fontsize=20)\n",
    "plt.show()"
   ]
  },
  {
   "cell_type": "markdown",
   "metadata": {
    "id": "bb1dedc8"
   },
   "source": [
    "### Task 2\n",
    "\n",
    "In this task you need to implement a boosting based classifier that can be used to classify the images. \n",
    "\n",
    "Details regarding the marking for the coursework are provided in the coursework specification file. Please ensure that your code will work with a different test file than the one provided with the coursework.\n",
    "\n",
    "Note that the boosting classifier you implement can include decision trees from scikit-learn or your own decision trees. Use the same sentiment analysis dataset for evaluation."
   ]
  },
  {
   "cell_type": "code",
   "execution_count": 25,
   "metadata": {
    "id": "c1e5bfc0"
   },
   "outputs": [],
   "source": [
    "def compute_error(y, y_pred, w):\n",
    "    return (sum(w * (np.not_equal(y, y_pred)).astype(int)))/sum(w)\n",
    "\n",
    "def compute_alpha(error):\n",
    "    return np.log((1 - error) / error)\n",
    "\n",
    "def update_weights(w, alpha, y, y_pred):\n",
    "    return w * np.exp(alpha * (np.not_equal(y, y_pred)).astype(int))"
   ]
  },
  {
   "cell_type": "code",
   "execution_count": 26,
   "metadata": {
    "id": "6b9943ba"
   },
   "outputs": [],
   "source": [
    "from sklearn.tree import DecisionTreeClassifier\n",
    "class BoostingClassifier():\n",
    "    \n",
    "    def __init__(self):\n",
    "        self.alphas = []\n",
    "        self.weak_classifier = []\n",
    "        self.n_estimater = None\n",
    "        self.train_error = []\n",
    "\n",
    "    def fit(self, X, y):\n",
    "        self.alphas = [] \n",
    "        self.train_error = []\n",
    "        self.n_estimater = n_estimater\n",
    "\n",
    "        # Iterate weak classifiers\n",
    "        for m in range(0, n_estimater):\n",
    "            \n",
    "            # Set weights for current boosting\n",
    "            if m == 0:\n",
    "                w = np.ones(len(y)) * 1 / len(y)\n",
    "            else:\n",
    "                # Update weight\n",
    "                w = update_weights(w, alpha_m, y, y_pred)\n",
    "            \n",
    "            # Fit weak classifier and predict\n",
    "            tree = DecisionTreeClassifier(max_depth=max_depth)\n",
    "            tree.fit(X, y, sample_weight = w)\n",
    "            y_pred = tree.predict(X)\n",
    "            \n",
    "             # Save to list of weak classifiers\n",
    "            self.weak_classifier.append(tree)\n",
    "\n",
    "            # Compute error\n",
    "            error_m = compute_error(y, y_pred, w)\n",
    "            self.train_error.append(error_m)\n",
    "\n",
    "            # Compute alpha\n",
    "            alpha_m = compute_alpha(error_m)\n",
    "            self.alphas.append(alpha_m)\n",
    "\n",
    "        assert len(self.weak_classifier) == len(self.alphas)\n",
    "        \n",
    "    def predict(self, X):\n",
    "        \n",
    "        # Initialise dataframe with weak predictions for each observation\n",
    "        weak_preds = pd.DataFrame(index = range(len(X)), columns = range(self.n_estimater)) \n",
    "\n",
    "        # Predict class label for each weak classifier, weighted by alpha_m\n",
    "        for m in range(self.n_estimater):\n",
    "            y_pred_m = self.weak_classifier[m].predict(X) * self.alphas[m]\n",
    "            weak_preds.iloc[:,m] = y_pred_m\n",
    "\n",
    "        # Calculate final predictions\n",
    "        y_pred = (1 * np.sign(weak_preds.T.sum())).astype(int)\n",
    "\n",
    "        return y_pred"
   ]
  },
  {
   "cell_type": "code",
   "execution_count": 27,
   "metadata": {
    "id": "56a55c8e"
   },
   "outputs": [],
   "source": [
    "def test_func_boosting(dataset_train, dataset_test):\n",
    "    from sklearn.metrics import accuracy_score    \n",
    "    (X_train, Y_train, X_test, Y_test) = extract_bag_of_words_train_test(dataset_train, dataset_test)\n",
    "    bc = BoostingClassifier()\n",
    "    bc.fit(X_train, Y_train)\n",
    "    Y_Pred = bc.predict(X_test)    \n",
    "    acc = accuracy_score(Y_test, Y_Pred)\n",
    "    print(\"Accuracy:\",acc)\n",
    "    return acc"
   ]
  },
  {
   "cell_type": "markdown",
   "metadata": {},
   "source": [
    "## 4.1 Boosting Fine-Tuning"
   ]
  },
  {
   "cell_type": "code",
   "execution_count": 28,
   "metadata": {},
   "outputs": [
    {
     "name": "stdout",
     "output_type": "stream",
     "text": [
      "max_depth =  1 n_estimater =  100\n",
      "Accuracy: 0.8033333333333333\n",
      "total time: 4.483333333333333 mins\n",
      " \n",
      "max_depth =  1 n_estimater =  400\n",
      "Accuracy: 0.8346666666666667\n",
      "total time: 16.683333333333334 mins\n",
      " \n",
      "max_depth =  2 n_estimater =  100\n",
      "Accuracy: 0.816\n",
      "total time: 7.35 mins\n",
      " \n",
      "max_depth =  2 n_estimater =  400\n",
      "Accuracy: 0.8366666666666667\n",
      "total time: 29.55 mins\n",
      " \n",
      "----------------end------------------\n"
     ]
    }
   ],
   "source": [
    "depth_lst = [1,2]\n",
    "estimator_lst = [100,400]\n",
    "\n",
    "max_depth = 0\n",
    "n_estimater = 0\n",
    "\n",
    "for d in depth_lst:\n",
    "    for n in estimator_lst:\n",
    "        starttime = time.time()\n",
    "        max_depth = d\n",
    "        n_estimater = n\n",
    "        \n",
    "        print('max_depth = ',max_depth,'n_estimater = ',n_estimater)\n",
    "        acc = test_func_boosting(\"movie_review_train.csv\", \"movie_review_test.csv\")\n",
    "        print('total time:',((round(time.time()-starttime)/60)), 'mins')\n",
    "        print(' ')\n",
    "print('----------------end------------------')"
   ]
  },
  {
   "cell_type": "markdown",
   "metadata": {
    "id": "17bcc941"
   },
   "source": [
    "### Test function that will be called to evaluate your code. Separate test dataset will be provided\n",
    "\n",
    "Do not modify the code below. Please write your code above such that it can be evaluated by the function below. You can modify your code above such that you obtain the best performance through this function. "
   ]
  },
  {
   "cell_type": "code",
   "execution_count": 29,
   "metadata": {},
   "outputs": [],
   "source": [
    "max_depth=1\n",
    "M = 400"
   ]
  },
  {
   "cell_type": "code",
   "execution_count": 30,
   "metadata": {
    "id": "60b73937",
    "outputId": "eb4d3438-2535-4b02-e854-2d3ea7a49b78"
   },
   "outputs": [
    {
     "name": "stdout",
     "output_type": "stream",
     "text": [
      "Accuracy: 0.8346666666666667\n"
     ]
    }
   ],
   "source": [
    "acc = test_func_boosting(\"movie_review_train.csv\", \"movie_review_test.csv\")"
   ]
  },
  {
   "cell_type": "markdown",
   "metadata": {},
   "source": [
    "## Analysis of AdaBoost"
   ]
  },
  {
   "cell_type": "code",
   "execution_count": 31,
   "metadata": {
    "id": "ec7af446"
   },
   "outputs": [
    {
     "name": "stdout",
     "output_type": "stream",
     "text": [
      "Top 5 False Positive words in AdaBoost\n",
      " \n",
      "movi : 9.286014087337378\n",
      "film : 6.2459819939158745\n",
      "not : 4.7278729079116495\n",
      "one : 3.9986830761156367\n",
      "watch : 3.7276481219304705\n",
      " \n",
      " \n",
      "Top 5 False Negative words in AdaBoost\n",
      " \n",
      "movi : 5.42476512700477\n",
      "film : 4.6254127600246315\n",
      "not : 3.536639444009536\n",
      "like : 3.4642532431447823\n",
      "good : 3.282349756250772\n"
     ]
    }
   ],
   "source": [
    "bc = BoostingClassifier()\n",
    "bc.fit(X_train, Y_train)\n",
    "Y_Pred = bc.predict(X_test)\n",
    "\n",
    "ada_fp, ada_fn = word_weight(Y_Pred)\n",
    "final_false_pos_lst_ada = Nmaxelements(ada_fp, 5)\n",
    "final_false_neg_lst_ada = Nmaxelements(ada_fn, 5)\n",
    "print('Top 5 False Positive words in AdaBoost')\n",
    "print(' ')\n",
    "for i in final_false_pos_lst_ada:\n",
    "    print(words[i[0]], ':', i[1])\n",
    "\n",
    "print(' ')\n",
    "print(' ')\n",
    "print('Top 5 False Negative words in AdaBoost')\n",
    "print(' ')\n",
    "for i in final_false_neg_lst_ada:\n",
    "    print(words[i[0]], ':', i[1])"
   ]
  },
  {
   "cell_type": "code",
   "execution_count": 32,
   "metadata": {},
   "outputs": [
    {
     "data": {
      "image/png": "[encoded data removed]",
      "text/plain": [
       "<Figure size 864x576 with 2 Axes>"
      ]
     },
     "metadata": {
      "needs_background": "light"
     },
     "output_type": "display_data"
    }
   ],
   "source": [
    "bc_matrix = confusion_matrix(Y_test, Y_Pred)\n",
    "\n",
    "plt.figure(figsize=(12,8))\n",
    "\n",
    "group_names = ['True Neg', 'False Pos', 'False Neg', 'True Pos']\n",
    "group_counts = ['{0:0.0f}'.format(value) for value in bc_matrix.flatten()]\n",
    "group_percentages = ['{0:.2%}'.format(value) for value in bc_matrix.flatten()/np.sum(bc_matrix)]\n",
    "labels = [f'{v1}\\n{v2}\\n{v3}' for v1, v2, v3 in zip(group_names,group_counts,group_percentages)]\n",
    "labels = np.asarray(labels).reshape(2,2)\n",
    "\n",
    "ax = sns.heatmap(bc_matrix, annot=labels, fmt='', cmap='Blues', annot_kws={\"size\": 20})\n",
    "ax.set_ylabel('Predict', fontsize=20)    \n",
    "ax.set_xlabel('Actual',fontsize=20)\n",
    "ax.set_title(\"Confusion Matrix -- Boosting\", fontsize=20)\n",
    "plt.show()"
   ]
  },
  {
   "cell_type": "code",
   "execution_count": null,
   "metadata": {},
   "outputs": [],
   "source": []
  }
 ],
 "metadata": {
  "accelerator": "GPU",
  "colab": {
   "name": "Coursework2_17Apr.ipynb",
   "provenance": []
  },
  "kernelspec": {
   "display_name": "Python 3",
   "language": "python",
   "name": "python3"
  },
  "language_info": {
   "codemirror_mode": {
    "name": "ipython",
    "version": 3
   },
   "file_extension": ".py",
   "mimetype": "text/x-python",
   "name": "python",
   "nbconvert_exporter": "python",
   "pygments_lexer": "ipython3",
   "version": "3.6.6"
  }
 },
 "nbformat": 4,
 "nbformat_minor": 5
}
