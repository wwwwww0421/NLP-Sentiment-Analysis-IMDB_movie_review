{
 "cells": [
  {
   "cell_type": "markdown",
   "metadata": {
    "id": "27c773fc"
   },
   "source": [
    "### Coursework 2\n",
    "\n",
    "In this coursework you will be aiming to complete two classification tasks. \n",
    "Both the classification tasks relate to text classification tasks. \n",
    "\n",
    "One task is to be solved using Support Vector Machines. The other has to be solved using Boosting.\n",
    "\n",
    "The specific tasks and the marking for the various tasks are provided in the notebook. Each task is expected to be accompanied by a lab-report. Each task can have a concise lab report that is maximum of one page in an A4 size. You will be expected to submit your Jupyter Notebook and all lab reports as a single zip file. You could have additional functions implemented that you require for carrying out each task.\n"
   ]
  },
  {
   "cell_type": "markdown",
   "metadata": {
    "id": "97e3b586"
   },
   "source": [
    "#### Task 1\n",
    "\n",
    "In this task, you need to obtain sentiment analysis for the provided dataset. The dataset consists of movie reviews with the sentiments being provided. The sentiments are either positive or negative. You need to train an SVM based classifier to obtain train and check on the sample test dataset provided. The method will be evaluated also against an external test set. Please do not hardcode any dimensions or number of samples while writing the code. It should be possible to automate the testing and hardcoding values does not allow for automated testing. \n",
    "\n",
    "You are allowed to use scikit-learn to implement the SVM. However, you are expected to write your own kernels.\n",
    "\n",
    "You are allowed to use the existing library functions such as scikit-learn or numpy for obtaining the SVM. The main idea is to analyse the dataset using different kind of kernels. You are also supposed to write your own custom text kernels. Refer to the documentation provided [here](https://scikit-learn.org/stable/modules/svm.html) at 1.4.6.2 and an example [here](https://scikit-learn.org/stable/auto_examples/svm/plot_custom_kernel.html) for writing your own kernels.\n",
    "\n",
    "Details regarding the marking have been provided in the coursework specification file. Ensure that the code can be run with different test files. "
   ]
  },
  {
   "cell_type": "code",
   "execution_count": 1,
   "metadata": {
    "id": "6f928189"
   },
   "outputs": [],
   "source": [
    "import pandas as pd\n",
    "import numpy as np\n",
    "import csv\n",
    "import nltk\n",
    "import string\n",
    "import re\n",
    "from sklearn.feature_extraction.text import CountVectorizer\n",
    "from sklearn.feature_extraction.text import TfidfVectorizer\n",
    "from sklearn import svm\n",
    "from sklearn.metrics import accuracy_score\n",
    "from sklearn.pipeline import Pipeline\n",
    "from sklearn.svm import SVC\n",
    "from sklearn.metrics import confusion_matrix, classification_report\n",
    "\n",
    "## For stopwords that we need to exclude\n",
    "from nltk.corpus import stopwords\n",
    "\n",
    "## For ngrams example in task2\n",
    "from nltk import ngrams\n",
    "\n",
    "## For Stemming\n",
    "from nltk.stem import PorterStemmer\n",
    "from nltk.tokenize import word_tokenize\n",
    "\n",
    "import seaborn as sns\n",
    "import matplotlib.pyplot as plt"
   ]
  },
  {
   "cell_type": "code",
   "execution_count": 2,
   "metadata": {
    "id": "67f9f0a3"
   },
   "outputs": [],
   "source": [
    "# new_stop = stopwords.words('english')\n",
    "all_stopwords = stopwords.words('english')\n",
    "# # print(all_stopwords)\n",
    "# # for word in all_stopwords:\n",
    "# #     all_stopwords.remove('not')\n",
    "    \n",
    "# # a = all_stopwords.remove(\"not\")\n",
    "new_stop = []\n",
    "for i in all_stopwords:\n",
    "    if i == 'not' or i == \"don't\" or i == \"don'\":\n",
    "        pass\n",
    "    else:\n",
    "        new_stop.append(i)"
   ]
  },
  {
   "cell_type": "code",
   "execution_count": 3,
   "metadata": {
    "id": "8f1117af"
   },
   "outputs": [],
   "source": [
    "def word_weight(y_pred_test):\n",
    "    false_pos = []\n",
    "    false_neg = []\n",
    "    for i in range(len(y_pred_test)):\n",
    "        if y_pred_test[i] == 1 and Y_test[i] == -1:\n",
    "            false_pos.append(i)\n",
    "        elif y_pred_test[i] == -1 and Y_test[i] == 1:\n",
    "            false_neg.append(i)\n",
    "\n",
    "    false_pos_lst = []\n",
    "    false_neg_lst = []\n",
    "    for x in false_pos:\n",
    "        false_pos_lst.append(X_test[x])\n",
    "    for x in false_neg:\n",
    "        false_neg_lst.append(X_test[x])\n",
    "\n",
    "    false_pos_weight = np.sum(false_pos_lst, axis =0).tolist()\n",
    "    false_neg_weight = np.sum(false_neg_lst, axis =0).tolist()\n",
    "    \n",
    "    return false_pos_weight, false_neg_weight\n",
    "\n",
    "def Nmaxelements(list1, N):\n",
    "    final_list = []\n",
    "    list2 = list(enumerate(list1))\n",
    "    for i in range(0, N): \n",
    "        max1 = 0\n",
    "        max_position = 0\n",
    "          \n",
    "        for j in range(len(list2)):\n",
    "            if list2[j][1] > max1:\n",
    "                max1 = list2[j][1]\n",
    "                max_position = list2[j][0]\n",
    "                  \n",
    "        \n",
    "        final_list.append((max_position,max1))\n",
    "        list2.remove((max_position,max1))\n",
    "        \n",
    "          \n",
    "    return final_list"
   ]
  },
  {
   "cell_type": "code",
   "execution_count": 4,
   "metadata": {
    "id": "be4e5546"
   },
   "outputs": [],
   "source": [
    "def clean(dataset):\n",
    "    corpus = []\n",
    "    for i in range(len(dataset)):\n",
    "        review = re.sub('[^a-zA-Z]', ' ', dataset['review'][i])\n",
    "        review = review.lower()\n",
    "        review = review.split()\n",
    "        ps = PorterStemmer()\n",
    "        all_stopwords = new_stop\n",
    "        review = [ps.stem(word) for word in review if not word in set(all_stopwords)]\n",
    "        review = [word for word in review if len(word) >= 3]\n",
    "        review = ' '.join(review)\n",
    "        corpus.append(review)\n",
    "    return corpus\n",
    "\n",
    "def numerial(x):\n",
    "    if x == 'positive':\n",
    "        return 1\n",
    "    else:\n",
    "        return 0\n",
    "    \n",
    "cv = TfidfVectorizer()"
   ]
  },
  {
   "cell_type": "markdown",
   "metadata": {
    "id": "55ab1ddb"
   },
   "source": [
    "# Process the text and obtain a bag of words-based features "
   ]
  },
  {
   "cell_type": "code",
   "execution_count": 5,
   "metadata": {
    "id": "65759e2a"
   },
   "outputs": [],
   "source": [
    "def extract_bag_of_words_train_test(train_file, test_file):\n",
    "    import numpy as np\n",
    "    import nltk\n",
    "    # Read the CSV file and extract Bag of Words Features\n",
    "    train = pd.read_csv(train_file)\n",
    "    test_old = pd.read_csv(test_file)\n",
    "    test = test_old.iloc[:,:2]\n",
    "    \n",
    "    train['sentiment'] = train[pd.notnull(train['sentiment'])]['sentiment'].apply(numerial)\n",
    "    test['sentiment'] = test[pd.notnull(test['sentiment'])]['sentiment'].apply(numerial)\n",
    "    \n",
    "    corpus_train = clean(train)\n",
    "    corpus_test = clean(test)\n",
    "    \n",
    "    X_train = cv.fit_transform(corpus_train).toarray()\n",
    "    y_train = train.iloc[:, -1].values\n",
    "    y_train = y_train*2-1\n",
    "    X_test = cv.transform(corpus_test).toarray()\n",
    "    y_test = test.iloc[:, -1].values\n",
    "    y_test = y_test*2-1\n",
    "    \n",
    "    \n",
    "    return (X_train,y_train,X_test,y_test)\n",
    "\n",
    "(X_train,Y_train,X_test,Y_test) = extract_bag_of_words_train_test('movie_review_train.csv', 'movie_review_test.csv')"
   ]
  },
  {
   "cell_type": "markdown",
   "metadata": {
    "id": "e51cc1c3"
   },
   "source": [
    "# Cross Validation"
   ]
  },
  {
   "cell_type": "code",
   "execution_count": 6,
   "metadata": {
    "id": "72dbe703"
   },
   "outputs": [],
   "source": [
    "words=cv.get_feature_names()\n",
    "from sklearn.model_selection import train_test_split\n",
    "X_train, X_val, Y_train, Y_val = train_test_split(X_train, Y_train, test_size = 0.20, random_state = 32)"
   ]
  },
  {
   "cell_type": "markdown",
   "metadata": {
    "id": "693abfe4"
   },
   "source": [
    "# 3. Customize Kernel (Polynomial Kernel)"
   ]
  },
  {
   "cell_type": "code",
   "execution_count": 7,
   "metadata": {
    "id": "9b89acdf"
   },
   "outputs": [],
   "source": [
    "gamma = 1\n",
    "degree = 2\n",
    "        \n",
    "def kernel(X, Y):\n",
    "   \n",
    "    K = np.zeros((X.shape[0],Y.shape[0]))\n",
    "    K = (gamma*X.dot(Y.T))**degree\n",
    "\n",
    "    return K\n",
    "\n",
    "class SVMClassifier:\n",
    "    def __init__(self):\n",
    "        self.clf = SVC(kernel = kernel)\n",
    "        \n",
    "    def fit(self, X, Y):\n",
    "        return self.clf.fit(X,Y)\n",
    "        \n",
    "    def predict(self, X):\n",
    "        return self.clf.predict(X)"
   ]
  },
  {
   "cell_type": "markdown",
   "metadata": {
    "id": "9f8e5f35"
   },
   "source": [
    "### Test function that will be called to evaluate your code. Separate test dataset will be provided\n",
    "\n",
    "Do not modify the code below. Please write your code above such that it can be evaluated by the function below. You can modify your code above such that you obtain the best performance through this function. "
   ]
  },
  {
   "cell_type": "code",
   "execution_count": 8,
   "metadata": {
    "id": "20fcf375"
   },
   "outputs": [],
   "source": [
    "def test_func_svm(dataset_train, dataset_test):\n",
    "    from sklearn.metrics import accuracy_score  \n",
    "    (X_train, Y_train, X_test, Y_test) = extract_bag_of_words_train_test(dataset_train, dataset_test)\n",
    "    sc = SVMClassifier()\n",
    "    sc.fit(X_train, Y_train)\n",
    "    Y_Pred = sc.predict(X_test)\n",
    "    acc = accuracy_score(Y_test, Y_Pred)\n",
    "    print(\"Accuracy:\",acc)\n",
    "    return acc"
   ]
  },
  {
   "cell_type": "code",
   "execution_count": 9,
   "metadata": {
    "id": "5ef497ee",
    "outputId": "c7bf4222-2f2c-4d0f-8da7-2859934b6616"
   },
   "outputs": [
    {
     "name": "stdout",
     "output_type": "stream",
     "text": [
      "Accuracy: 0.8753333333333333\n"
     ]
    }
   ],
   "source": [
    "acc = test_func_svm(\"movie_review_train.csv\", \"movie_review_test.csv\")"
   ]
  },
  {
   "cell_type": "markdown",
   "metadata": {
    "id": "910d421f"
   },
   "source": [
    "### Task 2\n",
    "\n",
    "In this task you need to implement a boosting based classifier that can be used to classify the images. \n",
    "\n",
    "Details regarding the marking for the coursework are provided in the coursework specification file. Please ensure that your code will work with a different test file than the one provided with the coursework.\n",
    "\n",
    "Note that the boosting classifier you implement can include decision trees from scikit-learn or your own decision trees. Use the same sentiment analysis dataset for evaluation."
   ]
  },
  {
   "cell_type": "code",
   "execution_count": 10,
   "metadata": {
    "id": "39dbd273"
   },
   "outputs": [],
   "source": [
    "def compute_error(y, y_pred, w):\n",
    "    return (sum(w * (np.not_equal(y, y_pred)).astype(int)))/sum(w)\n",
    "\n",
    "def compute_alpha(error):\n",
    "    return np.log((1 - error) / error)\n",
    "\n",
    "def update_weights(w, alpha, y, y_pred):\n",
    "    return w * np.exp(alpha * (np.not_equal(y, y_pred)).astype(int))"
   ]
  },
  {
   "cell_type": "code",
   "execution_count": 11,
   "metadata": {
    "id": "5fd8e3cb"
   },
   "outputs": [],
   "source": [
    "from sklearn.tree import DecisionTreeClassifier\n",
    "class BoostingClassifier():\n",
    "    \n",
    "    def __init__(self):\n",
    "        self.alphas = []\n",
    "        self.weak_classifier = []\n",
    "        self.n_estimater = None\n",
    "        self.train_error = []\n",
    "\n",
    "    def fit(self, X, y, n_estimater = 400):\n",
    "        self.alphas = [] \n",
    "        self.train_error = []\n",
    "        self.n_estimater = n_estimater\n",
    "\n",
    "        # Iterate weak classifiers\n",
    "        for m in range(0, n_estimater):\n",
    "            \n",
    "            # Set weights for current boosting\n",
    "            if m == 0:\n",
    "                w = np.ones(len(y)) * 1 / len(y)\n",
    "            else:\n",
    "                # Update weight\n",
    "                w = update_weights(w, alpha_m, y, y_pred)\n",
    "            \n",
    "            # Fit weak classifier and predict\n",
    "            tree = DecisionTreeClassifier(max_depth=1)\n",
    "            tree.fit(X, y, sample_weight = w)\n",
    "            y_pred = tree.predict(X)\n",
    "            \n",
    "             # Save to list of weak classifiers\n",
    "            self.weak_classifier.append(tree)\n",
    "\n",
    "            # Compute error\n",
    "            error_m = compute_error(y, y_pred, w)\n",
    "            self.train_error.append(error_m)\n",
    "\n",
    "            # Compute alpha\n",
    "            alpha_m = compute_alpha(error_m)\n",
    "            self.alphas.append(alpha_m)\n",
    "\n",
    "        assert len(self.weak_classifier) == len(self.alphas)\n",
    "        \n",
    "    def predict(self, X):\n",
    "        \n",
    "        # Initialise dataframe with weak predictions for each observation\n",
    "        weak_preds = pd.DataFrame(index = range(len(X)), columns = range(self.n_estimater)) \n",
    "\n",
    "        # Predict class label for each weak classifier, weighted by alpha_m\n",
    "        for m in range(self.n_estimater):\n",
    "            y_pred_m = self.weak_classifier[m].predict(X) * self.alphas[m]\n",
    "            weak_preds.iloc[:,m] = y_pred_m\n",
    "\n",
    "        # Calculate final predictions\n",
    "        y_pred = (1 * np.sign(weak_preds.T.sum())).astype(int)\n",
    "\n",
    "        return y_pred"
   ]
  },
  {
   "cell_type": "markdown",
   "metadata": {
    "id": "1ea60fc2"
   },
   "source": [
    "### Test function that will be called to evaluate your code. Separate test dataset will be provided\n",
    "\n",
    "Do not modify the code below. Please write your code above such that it can be evaluated by the function below. You can modify your code above such that you obtain the best performance through this function. "
   ]
  },
  {
   "cell_type": "code",
   "execution_count": 12,
   "metadata": {
    "id": "35f436c0"
   },
   "outputs": [],
   "source": [
    "def test_func_boosting(dataset_train, dataset_test):\n",
    "    from sklearn.metrics import accuracy_score\n",
    "    (X_train, Y_train, X_test, Y_test) = extract_bag_of_words_train_test(dataset_train, dataset_test)\n",
    "    bc = BoostingClassifier()\n",
    "    bc.fit(X_train, Y_train)\n",
    "    Y_Pred = bc.predict(X_test)\n",
    "    acc = accuracy_score(Y_test, Y_Pred)\n",
    "    print(\"Accuracy:\",acc)\n",
    "    return acc"
   ]
  },
  {
   "cell_type": "code",
   "execution_count": 13,
   "metadata": {
    "id": "ff04d157",
    "outputId": "eb4d3438-2535-4b02-e854-2d3ea7a49b78"
   },
   "outputs": [
    {
     "name": "stdout",
     "output_type": "stream",
     "text": [
      "Accuracy: 0.8346666666666667\n"
     ]
    }
   ],
   "source": [
    "acc = test_func_boosting(\"movie_review_train.csv\", \"movie_review_test.csv\")"
   ]
  },
  {
   "cell_type": "code",
   "execution_count": null,
   "metadata": {
    "id": "c4647c97"
   },
   "outputs": [],
   "source": []
  }
 ],
 "metadata": {
  "accelerator": "GPU",
  "colab": {
   "name": "ML2_accuracy_final.ipynb",
   "provenance": []
  },
  "kernelspec": {
   "display_name": "Python 3",
   "language": "python",
   "name": "python3"
  },
  "language_info": {
   "codemirror_mode": {
    "name": "ipython",
    "version": 3
   },
   "file_extension": ".py",
   "mimetype": "text/x-python",
   "name": "python",
   "nbconvert_exporter": "python",
   "pygments_lexer": "ipython3",
   "version": "3.6.6"
  }
 },
 "nbformat": 4,
 "nbformat_minor": 5
}
